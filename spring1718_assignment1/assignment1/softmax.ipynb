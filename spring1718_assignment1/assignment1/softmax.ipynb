{
 "cells": [
  {
   "cell_type": "markdown",
   "metadata": {},
   "source": [
    "# Softmax exercise\n",
    "\n",
    "*Complete and hand in this completed worksheet (including its outputs and any supporting code outside of the worksheet) with your assignment submission. For more details see the [assignments page](http://vision.stanford.edu/teaching/cs231n/assignments.html) on the course website.*\n",
    "\n",
    "This exercise is analogous to the SVM exercise. You will:\n",
    "\n",
    "- implement a fully-vectorized **loss function** for the Softmax classifier\n",
    "- implement the fully-vectorized expression for its **analytic gradient**\n",
    "- **check your implementation** with numerical gradient\n",
    "- use a validation set to **tune the learning rate and regularization** strength\n",
    "- **optimize** the loss function with **SGD**\n",
    "- **visualize** the final learned weights\n"
   ]
  },
  {
   "cell_type": "code",
   "execution_count": 1,
   "metadata": {},
   "outputs": [],
   "source": [
    "import random\n",
    "import numpy as np\n",
    "from cs231n.data_utils import load_CIFAR10\n",
    "import matplotlib.pyplot as plt\n",
    "\n",
    "from __future__ import print_function\n",
    "\n",
    "%matplotlib inline\n",
    "plt.rcParams['figure.figsize'] = (10.0, 8.0) # set default size of plots\n",
    "plt.rcParams['image.interpolation'] = 'nearest'\n",
    "plt.rcParams['image.cmap'] = 'gray'\n",
    "\n",
    "# for auto-reloading extenrnal modules\n",
    "# see http://stackoverflow.com/questions/1907993/autoreload-of-modules-in-ipython\n",
    "%load_ext autoreload\n",
    "%autoreload 2"
   ]
  },
  {
   "cell_type": "code",
   "execution_count": 2,
   "metadata": {},
   "outputs": [
    {
     "name": "stdout",
     "output_type": "stream",
     "text": [
      "Train data shape:  (49000, 3073)\n",
      "Train labels shape:  (49000,)\n",
      "Validation data shape:  (1000, 3073)\n",
      "Validation labels shape:  (1000,)\n",
      "Test data shape:  (1000, 3073)\n",
      "Test labels shape:  (1000,)\n",
      "dev data shape:  (500, 3073)\n",
      "dev labels shape:  (500,)\n"
     ]
    }
   ],
   "source": [
    "def get_CIFAR10_data(num_training=49000, num_validation=1000, num_test=1000, num_dev=500):\n",
    "    \"\"\"\n",
    "    Load the CIFAR-10 dataset from disk and perform preprocessing to prepare\n",
    "    it for the linear classifier. These are the same steps as we used for the\n",
    "    SVM, but condensed to a single function.  \n",
    "    \"\"\"\n",
    "    # Load the raw CIFAR-10 data\n",
    "    cifar10_dir = 'cs231n/datasets/cifar-10-batches-py'\n",
    "    \n",
    "    X_train, y_train, X_test, y_test = load_CIFAR10(cifar10_dir)\n",
    "    \n",
    "    # subsample the data\n",
    "    mask = list(range(num_training, num_training + num_validation))\n",
    "    X_val = X_train[mask]\n",
    "    y_val = y_train[mask]\n",
    "    mask = list(range(num_training))\n",
    "    X_train = X_train[mask]\n",
    "    y_train = y_train[mask]\n",
    "    mask = list(range(num_test))\n",
    "    X_test = X_test[mask]\n",
    "    y_test = y_test[mask]\n",
    "    mask = np.random.choice(num_training, num_dev, replace=False)\n",
    "    X_dev = X_train[mask]\n",
    "    y_dev = y_train[mask]\n",
    "    \n",
    "    # Preprocessing: reshape the image data into rows\n",
    "    X_train = np.reshape(X_train, (X_train.shape[0], -1))\n",
    "    X_val = np.reshape(X_val, (X_val.shape[0], -1))\n",
    "    X_test = np.reshape(X_test, (X_test.shape[0], -1))\n",
    "    X_dev = np.reshape(X_dev, (X_dev.shape[0], -1))\n",
    "    \n",
    "    # Normalize the data: subtract the mean image\n",
    "    mean_image = np.mean(X_train, axis = 0)\n",
    "    X_train -= mean_image\n",
    "    X_val -= mean_image\n",
    "    X_test -= mean_image\n",
    "    X_dev -= mean_image\n",
    "    \n",
    "    # add bias dimension and transform into columns\n",
    "    X_train = np.hstack([X_train, np.ones((X_train.shape[0], 1))])\n",
    "    X_val = np.hstack([X_val, np.ones((X_val.shape[0], 1))])\n",
    "    X_test = np.hstack([X_test, np.ones((X_test.shape[0], 1))])\n",
    "    X_dev = np.hstack([X_dev, np.ones((X_dev.shape[0], 1))])\n",
    "    \n",
    "    return X_train, y_train, X_val, y_val, X_test, y_test, X_dev, y_dev\n",
    "\n",
    "\n",
    "# Cleaning up variables to prevent loading data multiple times (which may cause memory issue)\n",
    "try:\n",
    "   del X_train, y_train\n",
    "   del X_test, y_test\n",
    "   print('Clear previously loaded data.')\n",
    "except:\n",
    "   pass\n",
    "\n",
    "# Invoke the above function to get our data.\n",
    "X_train, y_train, X_val, y_val, X_test, y_test, X_dev, y_dev = get_CIFAR10_data()\n",
    "print('Train data shape: ', X_train.shape)\n",
    "print('Train labels shape: ', y_train.shape)\n",
    "print('Validation data shape: ', X_val.shape)\n",
    "print('Validation labels shape: ', y_val.shape)\n",
    "print('Test data shape: ', X_test.shape)\n",
    "print('Test labels shape: ', y_test.shape)\n",
    "print('dev data shape: ', X_dev.shape)\n",
    "print('dev labels shape: ', y_dev.shape)"
   ]
  },
  {
   "cell_type": "markdown",
   "metadata": {},
   "source": [
    "## Softmax Classifier\n",
    "\n",
    "Your code for this section will all be written inside **cs231n/classifiers/softmax.py**. \n"
   ]
  },
  {
   "cell_type": "code",
   "execution_count": 10,
   "metadata": {},
   "outputs": [
    {
     "name": "stdout",
     "output_type": "stream",
     "text": [
      "loss: 2.311209\n",
      "sanity check: 2.302585\n"
     ]
    }
   ],
   "source": [
    "# First implement the naive softmax loss function with nested loops.\n",
    "# Open the file cs231n/classifiers/softmax.py and implement the\n",
    "# softmax_loss_naive function.\n",
    "\n",
    "from cs231n.classifiers.softmax import softmax_loss_naive\n",
    "import time\n",
    "\n",
    "# Generate a random softmax weight matrix and use it to compute the loss.\n",
    "W = np.random.randn(3073, 10) * 0.0001\n",
    "loss, grad = softmax_loss_naive(W, X_dev, y_dev, 0.0)\n",
    "\n",
    "# As a rough sanity check, our loss should be something close to -log(0.1).\n",
    "print('loss: %f' % loss)\n",
    "print('sanity check: %f' % (-np.log(0.1)))"
   ]
  },
  {
   "cell_type": "markdown",
   "metadata": {},
   "source": [
    "## Inline Question 1:\n",
    "Why do we expect our loss to be close to -log(0.1)? Explain briefly.**\n",
    "\n",
    "**Your answer:** *Fill this in*\n"
   ]
  },
  {
   "cell_type": "code",
   "execution_count": 11,
   "metadata": {},
   "outputs": [
    {
     "name": "stdout",
     "output_type": "stream",
     "text": [
      "numerical: 0.539279 analytic: 0.539279, relative error: 1.185610e-07\n",
      "numerical: 2.502831 analytic: 2.502831, relative error: 1.411357e-08\n",
      "numerical: 2.541489 analytic: 2.541489, relative error: 2.517074e-08\n",
      "numerical: -0.094140 analytic: -0.094140, relative error: 4.504325e-07\n",
      "numerical: 3.136230 analytic: 3.136230, relative error: 1.299743e-09\n",
      "numerical: -4.439911 analytic: -4.439912, relative error: 2.372128e-08\n",
      "numerical: -1.554605 analytic: -1.554605, relative error: 3.559436e-09\n",
      "numerical: -6.426113 analytic: -6.426113, relative error: 1.026842e-08\n",
      "numerical: 0.743513 analytic: 0.743513, relative error: 1.137654e-07\n",
      "numerical: 0.724729 analytic: 0.724729, relative error: 1.127695e-07\n",
      "numerical: 1.571207 analytic: 1.571207, relative error: 7.465285e-10\n",
      "numerical: -0.081632 analytic: -0.081632, relative error: 6.011366e-07\n",
      "numerical: 3.134340 analytic: 3.134339, relative error: 2.843151e-08\n",
      "numerical: 0.892024 analytic: 0.892024, relative error: 1.215925e-08\n",
      "numerical: 1.479450 analytic: 1.479450, relative error: 2.233108e-08\n",
      "numerical: 0.247328 analytic: 0.247328, relative error: 1.281864e-07\n",
      "numerical: -0.653594 analytic: -0.653594, relative error: 3.366902e-09\n",
      "numerical: 0.795687 analytic: 0.795687, relative error: 2.086729e-08\n",
      "numerical: -3.317385 analytic: -3.317386, relative error: 2.671801e-08\n",
      "numerical: -0.547493 analytic: -0.547493, relative error: 5.800588e-08\n"
     ]
    }
   ],
   "source": [
    "# Complete the implementation of softmax_loss_naive and implement a (naive)\n",
    "# version of the gradient that uses nested loops.\n",
    "loss, grad = softmax_loss_naive(W, X_dev, y_dev, 0.0)\n",
    "\n",
    "# As we did for the SVM, use numeric gradient checking as a debugging tool.\n",
    "# The numeric gradient should be close to the analytic gradient.\n",
    "from cs231n.gradient_check import grad_check_sparse\n",
    "f = lambda w: softmax_loss_naive(w, X_dev, y_dev, 0.0)[0]\n",
    "grad_numerical = grad_check_sparse(f, W, grad, 10)\n",
    "\n",
    "# similar to SVM case, do another gradient check with regularization\n",
    "loss, grad = softmax_loss_naive(W, X_dev, y_dev, 5e1)\n",
    "f = lambda w: softmax_loss_naive(w, X_dev, y_dev, 5e1)[0]\n",
    "grad_numerical = grad_check_sparse(f, W, grad, 10)"
   ]
  },
  {
   "cell_type": "code",
   "execution_count": 13,
   "metadata": {},
   "outputs": [
    {
     "name": "stdout",
     "output_type": "stream",
     "text": [
      "naive loss: 2.311209e+00 computed in 0.103341s\n",
      "vectorized loss: 2.311209e+00 computed in 0.020066s\n",
      "Loss difference: 0.000000\n",
      "Gradient difference: 0.000000\n"
     ]
    }
   ],
   "source": [
    "# Now that we have a naive implementation of the softmax loss function and its gradient,\n",
    "# implement a vectorized version in softmax_loss_vectorized.\n",
    "# The two versions should compute the same results, but the vectorized version should be\n",
    "# much faster.\n",
    "tic = time.time()\n",
    "loss_naive, grad_naive = softmax_loss_naive(W, X_dev, y_dev, 0.000005)\n",
    "toc = time.time()\n",
    "print('naive loss: %e computed in %fs' % (loss_naive, toc - tic))\n",
    "\n",
    "from cs231n.classifiers.softmax import softmax_loss_vectorized\n",
    "tic = time.time()\n",
    "loss_vectorized, grad_vectorized = softmax_loss_vectorized(W, X_dev, y_dev, 0.000005)\n",
    "toc = time.time()\n",
    "print('vectorized loss: %e computed in %fs' % (loss_vectorized, toc - tic))\n",
    "\n",
    "# As we did for the SVM, we use the Frobenius norm to compare the two versions\n",
    "# of the gradient.\n",
    "grad_difference = np.linalg.norm(grad_naive - grad_vectorized, ord='fro')\n",
    "print('Loss difference: %f' % np.abs(loss_naive - loss_vectorized))\n",
    "print('Gradient difference: %f' % grad_difference)"
   ]
  },
  {
   "cell_type": "code",
   "execution_count": 15,
   "metadata": {},
   "outputs": [
    {
     "name": "stdout",
     "output_type": "stream",
     "text": [
      "lr 1.000000e-07 reg 7.000000e+03 train accuracy: 0.343490 val accuracy: 0.354000\n",
      "lr 1.000000e-07 reg 8.000000e+03 train accuracy: 0.353429 val accuracy: 0.356000\n",
      "lr 1.000000e-07 reg 9.000000e+03 train accuracy: 0.355714 val accuracy: 0.369000\n",
      "lr 1.000000e-07 reg 1.000000e+04 train accuracy: 0.359612 val accuracy: 0.366000\n",
      "lr 1.000000e-07 reg 1.100000e+04 train accuracy: 0.359673 val accuracy: 0.364000\n",
      "lr 1.000000e-07 reg 1.200000e+04 train accuracy: 0.357980 val accuracy: 0.376000\n",
      "lr 1.000000e-07 reg 1.300000e+04 train accuracy: 0.362388 val accuracy: 0.369000\n",
      "lr 1.000000e-07 reg 4.700000e+04 train accuracy: 0.331776 val accuracy: 0.348000\n",
      "lr 1.000000e-07 reg 4.800000e+04 train accuracy: 0.331184 val accuracy: 0.343000\n",
      "lr 1.000000e-07 reg 4.900000e+04 train accuracy: 0.332204 val accuracy: 0.348000\n",
      "lr 1.000000e-07 reg 5.000000e+04 train accuracy: 0.326939 val accuracy: 0.341000\n",
      "lr 1.000000e-07 reg 5.100000e+04 train accuracy: 0.325694 val accuracy: 0.336000\n",
      "lr 1.000000e-07 reg 5.200000e+04 train accuracy: 0.323347 val accuracy: 0.338000\n",
      "lr 1.000000e-07 reg 5.300000e+04 train accuracy: 0.323490 val accuracy: 0.345000\n",
      "lr 2.000000e-07 reg 7.000000e+03 train accuracy: 0.377796 val accuracy: 0.396000\n",
      "lr 2.000000e-07 reg 8.000000e+03 train accuracy: 0.377449 val accuracy: 0.392000\n",
      "lr 2.000000e-07 reg 9.000000e+03 train accuracy: 0.373633 val accuracy: 0.390000\n",
      "lr 2.000000e-07 reg 1.000000e+04 train accuracy: 0.375755 val accuracy: 0.384000\n",
      "lr 2.000000e-07 reg 1.100000e+04 train accuracy: 0.371694 val accuracy: 0.378000\n",
      "lr 2.000000e-07 reg 1.200000e+04 train accuracy: 0.368551 val accuracy: 0.384000\n",
      "lr 2.000000e-07 reg 1.300000e+04 train accuracy: 0.370327 val accuracy: 0.382000\n",
      "lr 2.000000e-07 reg 4.700000e+04 train accuracy: 0.331306 val accuracy: 0.349000\n",
      "lr 2.000000e-07 reg 4.800000e+04 train accuracy: 0.329490 val accuracy: 0.332000\n",
      "lr 2.000000e-07 reg 4.900000e+04 train accuracy: 0.329408 val accuracy: 0.346000\n",
      "lr 2.000000e-07 reg 5.000000e+04 train accuracy: 0.335449 val accuracy: 0.339000\n",
      "lr 2.000000e-07 reg 5.100000e+04 train accuracy: 0.327286 val accuracy: 0.346000\n",
      "lr 2.000000e-07 reg 5.200000e+04 train accuracy: 0.327980 val accuracy: 0.345000\n",
      "lr 2.000000e-07 reg 5.300000e+04 train accuracy: 0.328592 val accuracy: 0.346000\n",
      "lr 5.000000e-07 reg 7.000000e+03 train accuracy: 0.377000 val accuracy: 0.392000\n",
      "lr 5.000000e-07 reg 8.000000e+03 train accuracy: 0.375531 val accuracy: 0.376000\n",
      "lr 5.000000e-07 reg 9.000000e+03 train accuracy: 0.373224 val accuracy: 0.378000\n",
      "lr 5.000000e-07 reg 1.000000e+04 train accuracy: 0.371653 val accuracy: 0.375000\n",
      "lr 5.000000e-07 reg 1.100000e+04 train accuracy: 0.370000 val accuracy: 0.387000\n",
      "lr 5.000000e-07 reg 1.200000e+04 train accuracy: 0.368245 val accuracy: 0.383000\n",
      "lr 5.000000e-07 reg 1.300000e+04 train accuracy: 0.366551 val accuracy: 0.378000\n",
      "lr 5.000000e-07 reg 4.700000e+04 train accuracy: 0.314735 val accuracy: 0.331000\n",
      "lr 5.000000e-07 reg 4.800000e+04 train accuracy: 0.332061 val accuracy: 0.351000\n",
      "lr 5.000000e-07 reg 4.900000e+04 train accuracy: 0.326367 val accuracy: 0.340000\n",
      "lr 5.000000e-07 reg 5.000000e+04 train accuracy: 0.315327 val accuracy: 0.332000\n",
      "lr 5.000000e-07 reg 5.100000e+04 train accuracy: 0.323224 val accuracy: 0.337000\n",
      "lr 5.000000e-07 reg 5.200000e+04 train accuracy: 0.327878 val accuracy: 0.330000\n",
      "lr 5.000000e-07 reg 5.300000e+04 train accuracy: 0.327571 val accuracy: 0.328000\n",
      "best validation accuracy achieved during cross-validation: 0.396000\n"
     ]
    }
   ],
   "source": [
    "# Use the validation set to tune hyperparameters (regularization strength and\n",
    "# learning rate). You should experiment with different ranges for the learning\n",
    "# rates and regularization strengths; if you are careful you should be able to\n",
    "# get a classification accuracy of over 0.35 on the validation set.\n",
    "from cs231n.classifiers import Softmax\n",
    "results = {}\n",
    "best_val = -1\n",
    "best_softmax = None\n",
    "#learning_rates = [1e-7, 5e-7]\n",
    "#regularization_strengths = [2.5e4, 5e4]\n",
    "learning_rates = [1e-7, 2e-7, 5e-7]\n",
    "regularization_strengths =[(1+0.1*i)*1e4 for i in range(-3,4)] + [(5+0.1*i)*1e4 for i in range(-3,4)]\n",
    "################################################################################\n",
    "# TODO:                                                                        #\n",
    "# Use the validation set to set the learning rate and regularization strength. #\n",
    "# This should be identical to the validation that you did for the SVM; save    #\n",
    "# the best trained softmax classifer in best_softmax.                          #\n",
    "################################################################################\n",
    "for lr in learning_rates:\n",
    "    for rs in regularization_strengths:\n",
    "        softmax = Softmax()\n",
    "        softmax.train(X_train, y_train, lr, rs, num_iters=2000)\n",
    "        y_train_pred = softmax.predict(X_train)\n",
    "        train_accuracy = np.mean(y_train == y_train_pred)\n",
    "        y_val_pred = softmax.predict(X_val)\n",
    "        val_accuracy = np.mean(y_val == y_val_pred)\n",
    "        if val_accuracy > best_val:\n",
    "            best_val = val_accuracy\n",
    "            best_softmax = softmax           \n",
    "        results[(lr,rs)] = train_accuracy, val_accuracy\n",
    "################################################################################\n",
    "#                              END OF YOUR CODE                                #\n",
    "################################################################################\n",
    "    \n",
    "# Print out results.\n",
    "for lr, reg in sorted(results):\n",
    "    train_accuracy, val_accuracy = results[(lr, reg)]\n",
    "    print('lr %e reg %e train accuracy: %f val accuracy: %f' % (\n",
    "                lr, reg, train_accuracy, val_accuracy))\n",
    "    \n",
    "print('best validation accuracy achieved during cross-validation: %f' % best_val)"
   ]
  },
  {
   "cell_type": "code",
   "execution_count": 16,
   "metadata": {},
   "outputs": [
    {
     "name": "stdout",
     "output_type": "stream",
     "text": [
      "softmax on raw pixels final test set accuracy: 0.368000\n"
     ]
    }
   ],
   "source": [
    "# evaluate on test set\n",
    "# Evaluate the best softmax on test set\n",
    "y_test_pred = best_softmax.predict(X_test)\n",
    "test_accuracy = np.mean(y_test == y_test_pred)\n",
    "print('softmax on raw pixels final test set accuracy: %f' % (test_accuracy, ))"
   ]
  },
  {
   "cell_type": "markdown",
   "metadata": {},
   "source": [
    "**Inline Question** - *True or False*\n",
    "\n",
    "It's possible to add a new datapoint to a training set that would leave the SVM loss unchanged, but this is not the case with the Softmax classifier loss.\n",
    "\n",
    "*Your answer*:\n",
    "\n",
    "*Your explanation*:"
   ]
  },
  {
   "cell_type": "code",
   "execution_count": 17,
   "metadata": {},
   "outputs": [
    {
     "data": {
      "image/png": "[encoded data removed]",
      "text/plain": [
       "<Figure size 432x288 with 10 Axes>"
      ]
     },
     "metadata": {},
     "output_type": "display_data"
    }
   ],
   "source": [
    "# Visualize the learned weights for each class\n",
    "w = best_softmax.W[:-1,:] # strip out the bias\n",
    "w = w.reshape(32, 32, 3, 10)\n",
    "\n",
    "w_min, w_max = np.min(w), np.max(w)\n",
    "\n",
    "classes = ['plane', 'car', 'bird', 'cat', 'deer', 'dog', 'frog', 'horse', 'ship', 'truck']\n",
    "for i in range(10):\n",
    "    plt.subplot(2, 5, i + 1)\n",
    "    \n",
    "    # Rescale the weights to be between 0 and 255\n",
    "    wimg = 255.0 * (w[:, :, :, i].squeeze() - w_min) / (w_max - w_min)\n",
    "    plt.imshow(wimg.astype('uint8'))\n",
    "    plt.axis('off')\n",
    "    plt.title(classes[i])"
   ]
  },
  {
   "cell_type": "code",
   "execution_count": null,
   "metadata": {},
   "outputs": [],
   "source": []
  }
 ],
 "metadata": {
  "kernelspec": {
   "display_name": "Python 3",
   "language": "python",
   "name": "python3"
  },
  "language_info": {
   "codemirror_mode": {
    "name": "ipython",
    "version": 3
   },
   "file_extension": ".py",
   "mimetype": "text/x-python",
   "name": "python",
   "nbconvert_exporter": "python",
   "pygments_lexer": "ipython3",
   "version": "3.6.5"
  }
 },
 "nbformat": 4,
 "nbformat_minor": 1
}
